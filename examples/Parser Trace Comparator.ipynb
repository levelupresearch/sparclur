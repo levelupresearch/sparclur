{
 "cells": [
  {
   "cell_type": "code",
   "execution_count": 2,
   "metadata": {
    "ExecuteTime": {
     "end_time": "2022-02-01T23:37:36.021881Z",
     "start_time": "2022-02-01T23:37:32.521330Z"
    }
   },
   "outputs": [],
   "source": [
    "import os\n",
    "import sys\n",
    "sparclur_path = os.path.abspath('/Users/sdavis/PycharmProjects/sparclur/')\n",
    "if sparclur_path not in sys.path:\n",
    "    sys.path.append(sparclur_path)\n",
    "from sparclur.parsers import Arlington, MuPDF, PDFCPU, Poppler, QPDF, XPDF"
   ]
  },
  {
   "cell_type": "markdown",
   "metadata": {},
   "source": [
    "### Load the document"
   ]
  },
  {
   "cell_type": "code",
   "execution_count": 3,
   "metadata": {
    "ExecuteTime": {
     "end_time": "2022-02-01T23:39:53.027570Z",
     "start_time": "2022-02-01T23:39:53.024613Z"
    }
   },
   "outputs": [],
   "source": [
    "hello_world = os.path.join(sparclur_path, 'resources', 'hello_world_hand_edit.pdf')"
   ]
  },
  {
   "cell_type": "markdown",
   "metadata": {},
   "source": [
    "### Let's load up an instance of MuPDF parsing the document. The available API calls are displayed."
   ]
  },
  {
   "cell_type": "code",
   "execution_count": 7,
   "metadata": {
    "ExecuteTime": {
     "end_time": "2022-02-02T00:33:23.824417Z",
     "start_time": "2022-02-02T00:33:23.815775Z"
    }
   },
   "outputs": [
    {
     "data": {
      "text/plain": [
       "num_pages:\t(Property) Returns number of pages in the document\n",
       "can_reforge:\t(Property) Boolean for whether or not reforge capability is present\n",
       "reforge:\t(Property) Returns the raw binary of the reconstructed PDF\n",
       "reforge_result:\t(Property) Message conveying the success or failure of the reforging\n",
       "save_reforge:\tSave the reforge to the specified file location\n",
       "can_extract_text:\t(Property) Boolean for whether or not text extraction is present\n",
       "get_text:\tReturn a dictionary of pages and their extracted texts\n",
       "clear_text:\tClear the cache of text extraction\n",
       "get_tokens:\tReturn a dictionary of the parsed text tokens\n",
       "compare_text:\tReturn the Jaccard similarity of the shingled tokens between two text extractors\n",
       "can_render:\tBoolean for whether or not rendering capability is present\n",
       "validate_renderer:\t(Property) Determines the PDF validity for rendering process\n",
       "logs:\t(Property) Any logs collected during the rendering process\n",
       "caching:\t(Property) Whether renders are cached or not\n",
       "clear_renders:\tClears any renders that have been cached inside this object\n",
       "dpi:\t(Property) The DPI setting for this object\n",
       "get_renders:\tRetrieve the render for the specified page or all pages if not specified\n",
       "compare:\tCompare the renders for this object with the renders of another Renderer\n",
       "validate_text:\t(Property) Determines the PDF validity for the text extraction process\n",
       "compare_ocr:\tCompares the OCR of the document with the text extraction\n",
       "can_trace:\t(Property) Boolean for whether or not trace collection capability is present\n",
       "validate_tracer:\t(Property) Determines the PDF validity for the tracing process\n",
       "messages:\t(Property) The list of raw messages from the parser\n",
       "cleaned:\t(Property) A dictionary of normalized messages with their counts"
      ]
     },
     "execution_count": 7,
     "metadata": {},
     "output_type": "execute_result"
    }
   ],
   "source": [
    "mupdf = MuPDF(hello_world)\n",
    "mupdf"
   ]
  },
  {
   "cell_type": "markdown",
   "metadata": {},
   "source": [
    "### Here are the trace messages from parsing this document."
   ]
  },
  {
   "cell_type": "code",
   "execution_count": 8,
   "metadata": {
    "ExecuteTime": {
     "end_time": "2022-02-02T00:33:45.808378Z",
     "start_time": "2022-02-02T00:33:45.718167Z"
    }
   },
   "outputs": [
    {
     "data": {
      "text/plain": [
       "['error: expected generation number (0 ? obj)',\n",
       " 'warning: trying to repair broken xref',\n",
       " 'warning: repairing PDF document']"
      ]
     },
     "execution_count": 8,
     "metadata": {},
     "output_type": "execute_result"
    }
   ],
   "source": [
    "mupdf.messages"
   ]
  },
  {
   "cell_type": "code",
   "execution_count": 9,
   "metadata": {
    "ExecuteTime": {
     "end_time": "2022-02-02T00:34:12.705485Z",
     "start_time": "2022-02-02T00:34:12.699598Z"
    }
   },
   "outputs": [
    {
     "data": {
      "text/plain": [
       "{'error: expected generation number': 1,\n",
       " 'warning: trying to repair broken xref': 1,\n",
       " 'warning: repairing PDF document': 1}"
      ]
     },
     "execution_count": 9,
     "metadata": {},
     "output_type": "execute_result"
    }
   ],
   "source": [
    "mupdf.cleaned"
   ]
  },
  {
   "cell_type": "code",
   "execution_count": 10,
   "metadata": {
    "ExecuteTime": {
     "end_time": "2022-02-02T00:34:31.776383Z",
     "start_time": "2022-02-02T00:34:31.772816Z"
    }
   },
   "outputs": [
    {
     "data": {
      "text/plain": [
       "{'valid': False, 'status': 'Rejected', 'info': 'Errors returned'}"
      ]
     },
     "execution_count": 10,
     "metadata": {},
     "output_type": "execute_result"
    }
   ],
   "source": [
    "mupdf.validate_tracer"
   ]
  },
  {
   "cell_type": "markdown",
   "metadata": {},
   "source": [
    "### Let's do the same for Poppler and QPDF:"
   ]
  },
  {
   "cell_type": "code",
   "execution_count": 12,
   "metadata": {
    "ExecuteTime": {
     "end_time": "2022-02-02T00:35:00.151673Z",
     "start_time": "2022-02-02T00:35:00.145153Z"
    }
   },
   "outputs": [],
   "source": [
    "poppler = Poppler(hello_world)"
   ]
  },
  {
   "cell_type": "code",
   "execution_count": 13,
   "metadata": {
    "ExecuteTime": {
     "end_time": "2022-02-02T00:35:03.340478Z",
     "start_time": "2022-02-02T00:35:03.336879Z"
    }
   },
   "outputs": [
    {
     "data": {
      "text/plain": [
       "num_pages:\t(Property) Returns number of pages in the document\n",
       "can_reforge:\t(Property) Boolean for whether or not reforge capability is present\n",
       "reforge:\t(Property) Returns the raw binary of the reconstructed PDF\n",
       "reforge_result:\t(Property) Message conveying the success or failure of the reforging\n",
       "save_reforge:\tSave the reforge to the specified file location\n",
       "can_extract_image_data:\t(Property) Boolean for whether or not image data extraction \n",
       "                                                capability is present\n",
       "contains_jpeg:\t(Property) Returns True if jpeg data was extracted from the PDF\n",
       "contains_images:\t(Property) Returns True if image data was extracted from the PDF\n",
       "images:\t(Property) Returns the image data that was extracted from the PDF\n",
       "validate_image_data:\t(Property) Determines the PDF validity for image data extraction\n",
       "can_extract_font:\t(Property) Boolean for whether or not font extraction is present\n",
       "non_embedded_fonts:\t(Property) Returns true if the document is missing non-system fonts\n",
       "fonts:\t(Property) Returns the font information for the PDF\n",
       "validate_fonts:\t(Property) Determines the PDF validity for font info extraction\n",
       "can_extract_text:\t(Property) Boolean for whether or not text extraction is present\n",
       "get_text:\tReturn a dictionary of pages and their extracted texts\n",
       "clear_text:\tClear the cache of text extraction\n",
       "get_tokens:\tReturn a dictionary of the parsed text tokens\n",
       "compare_text:\tReturn the Jaccard similarity of the shingled tokens between two text extractors\n",
       "can_render:\tBoolean for whether or not rendering capability is present\n",
       "validate_renderer:\t(Property) Determines the PDF validity for rendering process\n",
       "logs:\t(Property) Any logs collected during the rendering process\n",
       "caching:\t(Property) Whether renders are cached or not\n",
       "clear_renders:\tClears any renders that have been cached inside this object\n",
       "dpi:\t(Property) The DPI setting for this object\n",
       "get_renders:\tRetrieve the render for the specified page or all pages if not specified\n",
       "compare:\tCompare the renders for this object with the renders of another Renderer\n",
       "validate_text:\t(Property) Determines the PDF validity for the text extraction process\n",
       "compare_ocr:\tCompares the OCR of the document with the text extraction\n",
       "can_trace:\t(Property) Boolean for whether or not trace collection capability is present\n",
       "validate_tracer:\t(Property) Determines the PDF validity for the tracing process\n",
       "messages:\t(Property) The list of raw messages from the parser\n",
       "cleaned:\t(Property) A dictionary of normalized messages with their counts"
      ]
     },
     "execution_count": 13,
     "metadata": {},
     "output_type": "execute_result"
    }
   ],
   "source": [
    "poppler"
   ]
  },
  {
   "cell_type": "code",
   "execution_count": 14,
   "metadata": {
    "ExecuteTime": {
     "end_time": "2022-02-02T00:35:16.169010Z",
     "start_time": "2022-02-02T00:35:15.926225Z"
    }
   },
   "outputs": [
    {
     "data": {
      "text/plain": [
       "['No warnings']"
      ]
     },
     "execution_count": 14,
     "metadata": {},
     "output_type": "execute_result"
    }
   ],
   "source": [
    "poppler.messages"
   ]
  },
  {
   "cell_type": "code",
   "execution_count": 15,
   "metadata": {
    "ExecuteTime": {
     "end_time": "2022-02-02T00:35:24.024040Z",
     "start_time": "2022-02-02T00:35:24.017595Z"
    }
   },
   "outputs": [
    {
     "data": {
      "text/plain": [
       "{'valid': True, 'status': 'Valid'}"
      ]
     },
     "execution_count": 15,
     "metadata": {},
     "output_type": "execute_result"
    }
   ],
   "source": [
    "poppler.validate_tracer"
   ]
  },
  {
   "cell_type": "code",
   "execution_count": 16,
   "metadata": {
    "ExecuteTime": {
     "end_time": "2022-02-02T00:46:50.002209Z",
     "start_time": "2022-02-02T00:46:49.993907Z"
    }
   },
   "outputs": [
    {
     "data": {
      "text/plain": [
       "num_pages:\t(Property) Returns number of pages in the document\n",
       "can_extract_metadata:\t(Property) Boolean for whether or not metadata extraction capability is present\n",
       "validate_metadata:\t(Property) Determines the PDF validity for metadata extraction\n",
       "metadata:\t(Property) Returns a dictionary of the parsed PDF objects and their key/values\n",
       "metadata_result:\t(Property) Returns a message relating to the success or failure of metadata extraction\n",
       "can_trace:\t(Property) Boolean for whether or not trace collection capability is present\n",
       "validate_tracer:\t(Property) Determines the PDF validity for the tracing process\n",
       "messages:\t(Property) The list of raw messages from the parser\n",
       "cleaned:\t(Property) A dictionary of normalized messages with their counts"
      ]
     },
     "execution_count": 16,
     "metadata": {},
     "output_type": "execute_result"
    }
   ],
   "source": [
    "qpdf = QPDF(hello_world)\n",
    "qpdf"
   ]
  },
  {
   "cell_type": "code",
   "execution_count": 17,
   "metadata": {
    "ExecuteTime": {
     "end_time": "2022-02-02T00:46:55.855155Z",
     "start_time": "2022-02-02T00:46:55.808891Z"
    }
   },
   "outputs": [
    {
     "data": {
      "text/plain": [
       "['WARNING: /Users/sdavis/PycharmProjects/sparclur/resources/hello_world_hand_edit.pdf: file is damaged',\n",
       " 'WARNING: /Users/sdavis/PycharmProjects/sparclur/resources/hello_world_hand_edit.pdf (offset 610): xref not found',\n",
       " 'WARNING: /Users/sdavis/PycharmProjects/sparclur/resources/hello_world_hand_edit.pdf: Attempting to reconstruct cross-reference table',\n",
       " 'WARNING: /Users/sdavis/PycharmProjects/sparclur/resources/hello_world_hand_edit.pdf (object 4 0, offset 551): expected endstream',\n",
       " 'WARNING: /Users/sdavis/PycharmProjects/sparclur/resources/hello_world_hand_edit.pdf (object 4 0, offset 488): attempting to recover stream length',\n",
       " 'WARNING: /Users/sdavis/PycharmProjects/sparclur/resources/hello_world_hand_edit.pdf (object 4 0, offset 488): recovered stream length: 60',\n",
       " 'qpdf: operation succeeded with warnings']"
      ]
     },
     "execution_count": 17,
     "metadata": {},
     "output_type": "execute_result"
    }
   ],
   "source": [
    "qpdf.messages"
   ]
  },
  {
   "cell_type": "code",
   "execution_count": 18,
   "metadata": {
    "ExecuteTime": {
     "end_time": "2022-02-02T00:47:05.263405Z",
     "start_time": "2022-02-02T00:47:05.258294Z"
    }
   },
   "outputs": [
    {
     "data": {
      "text/plain": [
       "{'WARNING: file is damaged': 1,\n",
       " 'WARNING: xref not found': 1,\n",
       " 'WARNING: Attempting to reconstruct cross-reference table': 1,\n",
       " 'WARNING: expected endstream': 1,\n",
       " 'WARNING: attempting to recover stream length': 1,\n",
       " 'recovered stream length': 1}"
      ]
     },
     "execution_count": 18,
     "metadata": {},
     "output_type": "execute_result"
    }
   ],
   "source": [
    "qpdf.cleaned"
   ]
  },
  {
   "cell_type": "code",
   "execution_count": null,
   "metadata": {},
   "outputs": [],
   "source": []
  }
 ],
 "metadata": {
  "kernelspec": {
   "display_name": "Python [conda env:sparclur]",
   "language": "python",
   "name": "conda-env-sparclur-py"
  },
  "language_info": {
   "codemirror_mode": {
    "name": "ipython",
    "version": 3
   },
   "file_extension": ".py",
   "mimetype": "text/x-python",
   "name": "python",
   "nbconvert_exporter": "python",
   "pygments_lexer": "ipython3",
   "version": "3.8.5"
  }
 },
 "nbformat": 4,
 "nbformat_minor": 2
}
