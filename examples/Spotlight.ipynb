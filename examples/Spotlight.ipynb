{
 "cells": [
  {
   "cell_type": "code",
   "execution_count": 1,
   "metadata": {
    "ExecuteTime": {
     "end_time": "2022-04-21T19:29:48.472130Z",
     "start_time": "2022-04-21T19:29:46.354919Z"
    }
   },
   "outputs": [],
   "source": [
    "import os\n",
    "import sys\n",
    "from sparclur import Spotlight\n",
    "from sparclur.parsers import *\n",
    "import re"
   ]
  },
  {
   "cell_type": "markdown",
   "metadata": {
    "ExecuteTime": {
     "end_time": "2022-02-02T02:00:57.448122Z",
     "start_time": "2022-02-02T02:00:57.446063Z"
    }
   },
   "source": [
    "### Load the Hello World pdf"
   ]
  },
  {
   "cell_type": "code",
   "execution_count": 2,
   "metadata": {
    "ExecuteTime": {
     "end_time": "2022-04-21T19:29:48.477291Z",
     "start_time": "2022-04-21T19:29:48.474621Z"
    }
   },
   "outputs": [],
   "source": [
    "hello_world = os.path.join(sys.prefix, 'etc', 'sparclur', 'resources', 'hello_world_hand_edit.pdf')\n",
    "#If the above does not load try the below. Otherwise any path to a PDF can be used here.\n",
    "# hello_world = os.path.join(site.USER_BASE, 'etc', 'sparclur', 'resources', 'hello_world_hand_edit.pdf')"
   ]
  },
  {
   "cell_type": "markdown",
   "metadata": {},
   "source": [
    "### Set the parsers to run with Spotlight"
   ]
  },
  {
   "cell_type": "code",
   "execution_count": 3,
   "metadata": {
    "ExecuteTime": {
     "end_time": "2022-04-21T19:29:48.482847Z",
     "start_time": "2022-04-21T19:29:48.479483Z"
    }
   },
   "outputs": [],
   "source": [
    "parsers = ['Poppler', 'MuPDF', 'PDFCPU', 'Ghostscript', 'XPDF', 'PDFMiner', 'QPDF']"
   ]
  },
  {
   "cell_type": "markdown",
   "metadata": {},
   "source": [
    "### Instantiate Spotlight and generate the result"
   ]
  },
  {
   "cell_type": "code",
   "execution_count": 4,
   "metadata": {
    "ExecuteTime": {
     "end_time": "2022-04-21T19:29:52.824507Z",
     "start_time": "2022-04-21T19:29:48.485469Z"
    },
    "scrolled": true
   },
   "outputs": [
    {
     "name": "stderr",
     "output_type": "stream",
     "text": [
      "mutool version 1.16.1\n",
      "pdftocairo version 21.11.0\n",
      "Copyright 2005-2021 The Poppler Developers - http://poppler.freedesktop.org\n",
      "Copyright 1996-2011 Glyph & Cog, LLC\n"
     ]
    },
    {
     "name": "stdout",
     "output_type": "stream",
     "text": [
      "GPL Ghostscript 9.55.0 (2021-09-27)\n",
      "Copyright (C) 2021 Artifex Software, Inc.  All rights reserved.\n",
      "This software is supplied under the GNU AGPLv3 and comes with NO WARRANTY:\n",
      "see the file COPYING for details.\n",
      "   **** Error:  An error occurred while reading an XREF table.\n",
      "   **** The file has been damaged.  This may have been caused\n",
      "   **** by a problem while converting or transferring the file.\n",
      "   **** Ghostscript will attempt to recover the data.\n",
      "   **** However, the output may be incorrect.\n",
      "Processing pages 1 through 1.\n",
      "Page 1\n",
      "   **** Error: stream Length incorrect.\n",
      "               Output may be incorrect.\n",
      "Loading NimbusRoman-Regular font from /usr/local/Cellar/ghostscript/9.55.0/share/ghostscript/9.55.0/Resource/Font/NimbusRoman-Regular... 5086596 3570398 2511964 1142448 4 done.\n",
      "\n",
      "   **** This file had errors that were repaired or ignored.\n",
      "   **** Please notify the author of the software that produced this\n",
      "   **** file that it does not conform to Adobe's published PDF\n",
      "   **** specification.\n",
      "\n",
      "   **** The rendered output from this file may be incorrect.\n"
     ]
    },
    {
     "name": "stderr",
     "output_type": "stream",
     "text": [
      "mutool version 1.16.1\n",
      "pdftocairo version 21.11.0\n",
      "Copyright 2005-2021 The Poppler Developers - http://poppler.freedesktop.org\n",
      "Copyright 1996-2011 Glyph & Cog, LLC\n",
      "  0%|                                                                                                                                                                             | 0/28 [00:00<?, ?it/s]"
     ]
    },
    {
     "name": "stdout",
     "output_type": "stream",
     "text": [
      "GPL Ghostscript 9.55.0 (2021-09-27)\n",
      "Copyright (C) 2021 Artifex Software, Inc.  All rights reserved.\n",
      "This software is supplied under the GNU AGPLv3 and comes with NO WARRANTY:\n",
      "see the file COPYING for details.\n",
      "Processing pages 1 through 1.\n",
      "Page 1\n",
      "Loading NimbusRoman-Regular font from /usr/local/Cellar/ghostscript/9.55.0/share/ghostscript/9.55.0/Resource/Font/NimbusRoman-Regular... 4446076 2950014 6452568 5112214 4 done.\n"
     ]
    },
    {
     "name": "stderr",
     "output_type": "stream",
     "text": [
      "\r",
      "  4%|█████▉                                                                                                                                                               | 1/28 [00:00<00:11,  2.34it/s]"
     ]
    },
    {
     "name": "stdout",
     "output_type": "stream",
     "text": [
      "GPL Ghostscript 9.55.0 (2021-09-27)\n",
      "Copyright (C) 2021 Artifex Software, Inc.  All rights reserved.\n",
      "This software is supplied under the GNU AGPLv3 and comes with NO WARRANTY:\n",
      "see the file COPYING for details.\n",
      "   **** Error:  An error occurred while reading an XREF table.\n",
      "   **** The file has been damaged.  This may have been caused\n",
      "   **** by a problem while converting or transferring the file.\n",
      "   **** Ghostscript will attempt to recover the data.\n",
      "   **** However, the output may be incorrect.\n",
      "Processing pages 1 through 1.\n",
      "Page 1\n",
      "   **** Error: stream Length incorrect.\n",
      "               Output may be incorrect.\n",
      "Loading NimbusRoman-Regular font from /usr/local/Cellar/ghostscript/9.55.0/share/ghostscript/9.55.0/Resource/Font/NimbusRoman-Regular... 4425876 2942629 6510500 5183647 4 done.\n",
      "GPL Ghostscript 9.55.0 (2021-09-27)\n",
      "Copyright (C) 2021 Artifex Software, Inc.  All rights reserved.\n",
      "This software is supplied under the GNU AGPLv3 and comes with NO WARRANTY:\n",
      "see the file COPYING for details.\n",
      "\n",
      "   **** This file had errors that were repaired or ignored.\n",
      "   **** Please notify the author of the software that produced this\n",
      "   **** file that it does not conform to Adobe's published PDF\n",
      "   **** specification.\n",
      "\n",
      "   **** The rendered output from this file may be incorrect.\n",
      "GPL Ghostscript 9.55.0 (2021-09-27)\n",
      "Copyright (C) 2021 Artifex Software, Inc.  All rights reserved.\n",
      "This software is supplied under the GNU AGPLv3 and comes with NO WARRANTY:\n",
      "see the file COPYING for details.\n",
      "Processing pages 1 through 1.\n",
      "Page 1\n",
      "Processing pages 1 through 1.\n",
      "Page 1\n",
      "Loading NimbusRoman-Regular font from /usr/local/Cellar/ghostscript/9.55.0/share/ghostscript/9.55.0/Resource/Font/NimbusRoman-Regular... 4425876 2943862 6452568 5112214 4 done.\n"
     ]
    },
    {
     "name": "stderr",
     "output_type": "stream",
     "text": [
      "\r",
      " 14%|███████████████████████▌                                                                                                                                             | 4/28 [00:00<00:04,  5.47it/s]"
     ]
    },
    {
     "name": "stdout",
     "output_type": "stream",
     "text": [
      "GPL Ghostscript 9.55.0 (2021-09-27)\n",
      "Copyright (C) 2021 Artifex Software, Inc.  All rights reserved.\n",
      "This software is supplied under the GNU AGPLv3 and comes with NO WARRANTY:\n",
      "see the file COPYING for details.\n",
      "GPL Ghostscript 9.55.0 (2021-09-27)\n",
      "Copyright (C) 2021 Artifex Software, Inc.  All rights reserved.\n",
      "This software is supplied under the GNU AGPLv3 and comes with NO WARRANTY:\n",
      "see the file COPYING for details.\n",
      "GPL Ghostscript 9.55.0 (2021-09-27)\n",
      "Copyright (C) 2021 Artifex Software, Inc.  All rights reserved.\n",
      "This software is supplied under the GNU AGPLv3 and comes with NO WARRANTY:\n",
      "see the file COPYING for details.\n",
      "   **** Error:  An error occurred while reading an XREF table.\n",
      "   **** The file has been damaged.  This may have been caused\n",
      "   **** by a problem while converting or transferring the file.\n",
      "   **** Ghostscript will attempt to recover the data.\n",
      "   **** However, the output may be incorrect.\n",
      "Processing pages 1 through 1.\n",
      "Page 1\n",
      "   **** Error: stream Length incorrect.\n",
      "               Output may be incorrect.\n",
      "Loading NimbusRoman-Regular font from /usr/local/Cellar/ghostscript/9.55.0/share/ghostscript/9.55.0/Resource/Font/NimbusRoman-Regular... 4425876 2942485 6510500 5183775 4 done.\n",
      "\n",
      "   **** This file had errors that were repaired or ignored.\n",
      "   **** Please notify the author of the software that produced this\n",
      "   **** file that it does not conform to Adobe's published PDF\n",
      "   **** specification.\n",
      "\n",
      "   **** The rendered output from this file may be incorrect.\n",
      "Processing pages 1 through 1.\n",
      "Page 1\n",
      "Processing pages 1 through 1.\n",
      "Page 1\n"
     ]
    },
    {
     "name": "stderr",
     "output_type": "stream",
     "text": [
      "\r",
      " 29%|███████████████████████████████████████████████▏                                                                                                                     | 8/28 [00:01<00:02,  7.68it/s]"
     ]
    },
    {
     "name": "stdout",
     "output_type": "stream",
     "text": [
      "GPL Ghostscript 9.55.0 (2021-09-27)\n",
      "Copyright (C) 2021 Artifex Software, Inc.  All rights reserved.\n",
      "This software is supplied under the GNU AGPLv3 and comes with NO WARRANTY:\n",
      "see the file COPYING for details.\n",
      "Processing pages 1 through 1.\n",
      "Page 1\n"
     ]
    },
    {
     "name": "stderr",
     "output_type": "stream",
     "text": [
      "100%|████████████████████████████████████████████████████████████████████████████████████████████████████████████████████████████████████████████████████████████████████| 28/28 [00:03<00:00,  8.46it/s]\n",
      "100%|███████████████████████████████████████████████████████████████████████████████████████████████████████████████████████████████████████████████████████████████████| 7/7 [00:00<00:00, 78085.45it/s]\n",
      "100%|████████████████████████████████████████████████████████████████████████████████████████████████████████████████████████████████████████████████████████████████| 42/42 [00:00<00:00, 254567.58it/s]\n",
      "100%|███████████████████████████████████████████████████████████████████████████████████████████████████████████████████████████████████████████████████████████████████| 7/7 [00:00<00:00, 45239.03it/s]\n"
     ]
    }
   ],
   "source": [
    "spotlight = Spotlight(num_workers=5, parsers=parsers)\n",
    "spotlight_result = spotlight.run(hello_world)"
   ]
  },
  {
   "cell_type": "markdown",
   "metadata": {},
   "source": [
    "<hr>\n",
    "\n",
    "### Display the report for the validity of the original file and all of the cleaned-up versions for each parser run through Spotlight"
   ]
  },
  {
   "cell_type": "code",
   "execution_count": 5,
   "metadata": {
    "ExecuteTime": {
     "end_time": "2022-04-21T19:29:52.847964Z",
     "start_time": "2022-04-21T19:29:52.826462Z"
    }
   },
   "outputs": [
    {
     "data": {
      "text/html": [
       "<div>\n",
       "<style scoped>\n",
       "    .dataframe tbody tr th:only-of-type {\n",
       "        vertical-align: middle;\n",
       "    }\n",
       "\n",
       "    .dataframe tbody tr th {\n",
       "        vertical-align: top;\n",
       "    }\n",
       "\n",
       "    .dataframe thead th {\n",
       "        text-align: right;\n",
       "    }\n",
       "</style>\n",
       "<table border=\"1\" class=\"dataframe\">\n",
       "  <thead>\n",
       "    <tr style=\"text-align: right;\">\n",
       "      <th></th>\n",
       "      <th>original</th>\n",
       "      <th>Ghostscript</th>\n",
       "      <th>MuPDF</th>\n",
       "      <th>Poppler</th>\n",
       "    </tr>\n",
       "  </thead>\n",
       "  <tbody>\n",
       "    <tr>\n",
       "      <th>XPDF</th>\n",
       "      <td>Rejected</td>\n",
       "      <td>Valid</td>\n",
       "      <td>Valid</td>\n",
       "      <td>Valid</td>\n",
       "    </tr>\n",
       "    <tr>\n",
       "      <th>PDFCPU</th>\n",
       "      <td>Valid</td>\n",
       "      <td>Valid</td>\n",
       "      <td>Valid</td>\n",
       "      <td>Valid</td>\n",
       "    </tr>\n",
       "    <tr>\n",
       "      <th>Ghostscript</th>\n",
       "      <td>Valid</td>\n",
       "      <td>Valid</td>\n",
       "      <td>Valid</td>\n",
       "      <td>Valid</td>\n",
       "    </tr>\n",
       "    <tr>\n",
       "      <th>PDFMiner</th>\n",
       "      <td>Valid</td>\n",
       "      <td>Valid</td>\n",
       "      <td>Valid</td>\n",
       "      <td>Valid</td>\n",
       "    </tr>\n",
       "    <tr>\n",
       "      <th>QPDF</th>\n",
       "      <td>Valid with Warnings</td>\n",
       "      <td>Valid</td>\n",
       "      <td>Valid</td>\n",
       "      <td>Valid</td>\n",
       "    </tr>\n",
       "    <tr>\n",
       "      <th>MuPDF</th>\n",
       "      <td>Rejected</td>\n",
       "      <td>Valid</td>\n",
       "      <td>Valid</td>\n",
       "      <td>Valid</td>\n",
       "    </tr>\n",
       "    <tr>\n",
       "      <th>Poppler</th>\n",
       "      <td>Rejected</td>\n",
       "      <td>Valid</td>\n",
       "      <td>Rejected</td>\n",
       "      <td>Valid</td>\n",
       "    </tr>\n",
       "    <tr>\n",
       "      <th>Overall</th>\n",
       "      <td>Rejected</td>\n",
       "      <td>Valid</td>\n",
       "      <td>Rejected</td>\n",
       "      <td>Valid</td>\n",
       "    </tr>\n",
       "  </tbody>\n",
       "</table>\n",
       "</div>"
      ],
      "text/plain": [
       "                        original Ghostscript     MuPDF Poppler\n",
       "XPDF                    Rejected       Valid     Valid   Valid\n",
       "PDFCPU                     Valid       Valid     Valid   Valid\n",
       "Ghostscript                Valid       Valid     Valid   Valid\n",
       "PDFMiner                   Valid       Valid     Valid   Valid\n",
       "QPDF         Valid with Warnings       Valid     Valid   Valid\n",
       "MuPDF                   Rejected       Valid     Valid   Valid\n",
       "Poppler                 Rejected       Valid  Rejected   Valid\n",
       "Overall                 Rejected       Valid  Rejected   Valid"
      ]
     },
     "execution_count": 5,
     "metadata": {},
     "output_type": "execute_result"
    }
   ],
   "source": [
    "spotlight_result.validity_report()"
   ]
  },
  {
   "cell_type": "markdown",
   "metadata": {},
   "source": [
    "<hr>\n",
    "\n",
    "### Since Poppler rejects the cleaned-up version generated by MuPDF, the file's recovery is ambiguous. This can be seen in the call below."
   ]
  },
  {
   "cell_type": "code",
   "execution_count": 6,
   "metadata": {
    "ExecuteTime": {
     "end_time": "2022-04-21T19:29:52.852996Z",
     "start_time": "2022-04-21T19:29:52.849662Z"
    }
   },
   "outputs": [
    {
     "name": "stdout",
     "output_type": "stream",
     "text": [
      "Recovery ambigous:\n",
      "\tMuPDF: Rejected\n"
     ]
    }
   ],
   "source": [
    "print(spotlight_result.recoverable())"
   ]
  },
  {
   "cell_type": "markdown",
   "metadata": {},
   "source": [
    "<hr>\n",
    "\n",
    "### Let's see why Poppler rejected the file in the first place. All tools came back valid except font extraction."
   ]
  },
  {
   "cell_type": "code",
   "execution_count": 7,
   "metadata": {
    "ExecuteTime": {
     "end_time": "2022-04-21T19:29:53.059636Z",
     "start_time": "2022-04-21T19:29:52.854560Z"
    }
   },
   "outputs": [
    {
     "data": {
      "text/plain": [
       "{'Tracer': {'valid': True, 'status': 'Valid'},\n",
       " 'Text Extractor': {'valid': True, 'status': 'Valid'},\n",
       " 'Renderer': {'valid': True, 'status': 'Valid'},\n",
       " 'Font Extractor': {'valid': False,\n",
       "  'status': 'Rejected',\n",
       "  'info': 'Errors returned'},\n",
       " 'Image Data': {'valid': True, 'status': 'Valid'},\n",
       " 'overall': {'valid': False, 'status': 'Rejected'}}"
      ]
     },
     "execution_count": 7,
     "metadata": {},
     "output_type": "execute_result"
    }
   ],
   "source": [
    "poppler = Poppler(hello_world)\n",
    "poppler.validity"
   ]
  },
  {
   "cell_type": "markdown",
   "metadata": {},
   "source": [
    "<hr>\n",
    "\n",
    "### Here's the extracted font:"
   ]
  },
  {
   "cell_type": "code",
   "execution_count": 8,
   "metadata": {
    "ExecuteTime": {
     "end_time": "2022-04-21T19:29:53.067381Z",
     "start_time": "2022-04-21T19:29:53.062434Z"
    }
   },
   "outputs": [
    {
     "data": {
      "text/plain": [
       "[{'name': 'Times-Roman',\n",
       "  'type': 'Type 1',\n",
       "  'encoding': 'Standard',\n",
       "  'emb': False,\n",
       "  'sub': False,\n",
       "  'uni': False,\n",
       "  'object ID': '[none] R'}]"
      ]
     },
     "execution_count": 8,
     "metadata": {},
     "output_type": "execute_result"
    }
   ],
   "source": [
    "poppler.fonts"
   ]
  },
  {
   "cell_type": "markdown",
   "metadata": {},
   "source": [
    "<hr>\n",
    "\n",
    "### Let's clean up the file using Poppler and see what happens to the font:"
   ]
  },
  {
   "cell_type": "code",
   "execution_count": 9,
   "metadata": {
    "ExecuteTime": {
     "end_time": "2022-04-21T19:29:53.311967Z",
     "start_time": "2022-04-21T19:29:53.069173Z"
    }
   },
   "outputs": [
    {
     "name": "stderr",
     "output_type": "stream",
     "text": [
      "pdftocairo version 21.11.0\n",
      "Copyright 2005-2021 The Poppler Developers - http://poppler.freedesktop.org\n",
      "Copyright 1996-2011 Glyph & Cog, LLC\n"
     ]
    },
    {
     "data": {
      "text/plain": [
       "{'Tracer': {'valid': True, 'status': 'Valid'},\n",
       " 'Text Extractor': {'valid': True, 'status': 'Valid'},\n",
       " 'Renderer': {'valid': True, 'status': 'Valid'},\n",
       " 'Font Extractor': {'valid': True, 'status': 'Valid'},\n",
       " 'Image Data': {'valid': True, 'status': 'Valid'},\n",
       " 'overall': {'valid': True, 'status': 'Valid'}}"
      ]
     },
     "execution_count": 9,
     "metadata": {},
     "output_type": "execute_result"
    }
   ],
   "source": [
    "poppler_cleanup = poppler.reforge\n",
    "cleaned_poppler = Poppler(poppler_cleanup)\n",
    "cleaned_poppler.validity"
   ]
  },
  {
   "cell_type": "code",
   "execution_count": 10,
   "metadata": {
    "ExecuteTime": {
     "end_time": "2022-04-21T19:29:53.322276Z",
     "start_time": "2022-04-21T19:29:53.316874Z"
    }
   },
   "outputs": [
    {
     "data": {
      "text/plain": [
       "[{'name': 'QELDOZ+Times-Roman',\n",
       "  'type': 'TrueType',\n",
       "  'encoding': 'WinAnsi',\n",
       "  'emb': True,\n",
       "  'sub': True,\n",
       "  'uni': True,\n",
       "  'object ID': '6  0 R'}]"
      ]
     },
     "execution_count": 10,
     "metadata": {},
     "output_type": "execute_result"
    }
   ],
   "source": [
    "cleaned_poppler.fonts"
   ]
  },
  {
   "cell_type": "markdown",
   "metadata": {},
   "source": [
    "<hr>\n",
    "\n",
    "### Poppler embedded a system font into the cleaned up version. Now let's see what the MuPDF reforged document does for the font extraction:"
   ]
  },
  {
   "cell_type": "code",
   "execution_count": 11,
   "metadata": {
    "ExecuteTime": {
     "end_time": "2022-04-21T19:29:53.565800Z",
     "start_time": "2022-04-21T19:29:53.324218Z"
    }
   },
   "outputs": [
    {
     "name": "stderr",
     "output_type": "stream",
     "text": [
      "mutool version 1.16.1\n"
     ]
    },
    {
     "data": {
      "text/plain": [
       "{'Tracer': {'valid': True, 'status': 'Valid'},\n",
       " 'Text Extractor': {'valid': True, 'status': 'Valid'},\n",
       " 'Renderer': {'valid': True, 'status': 'Valid'},\n",
       " 'Font Extractor': {'valid': False,\n",
       "  'status': 'Rejected',\n",
       "  'info': 'Errors returned'},\n",
       " 'Image Data': {'valid': True, 'status': 'Valid'},\n",
       " 'overall': {'valid': False, 'status': 'Rejected'}}"
      ]
     },
     "execution_count": 11,
     "metadata": {},
     "output_type": "execute_result"
    }
   ],
   "source": [
    "mupdf_cleanup = MuPDF(hello_world).reforge\n",
    "mu_poppler = Poppler(mupdf_cleanup)\n",
    "mu_poppler.validity"
   ]
  },
  {
   "cell_type": "markdown",
   "metadata": {},
   "source": [
    "<hr>\n",
    "\n",
    "### We can see that the MuPDF cleaning process left the font information untouched, which is why Poppler marked this version invalid."
   ]
  },
  {
   "cell_type": "code",
   "execution_count": 12,
   "metadata": {
    "ExecuteTime": {
     "end_time": "2022-04-21T19:29:53.572514Z",
     "start_time": "2022-04-21T19:29:53.568064Z"
    }
   },
   "outputs": [
    {
     "data": {
      "text/plain": [
       "[{'name': 'Times-Roman',\n",
       "  'type': 'Type 1',\n",
       "  'encoding': 'Standard',\n",
       "  'emb': False,\n",
       "  'sub': False,\n",
       "  'uni': False,\n",
       "  'object ID': '[none] R'}]"
      ]
     },
     "execution_count": 12,
     "metadata": {},
     "output_type": "execute_result"
    }
   ],
   "source": [
    "mu_poppler.fonts"
   ]
  },
  {
   "cell_type": "markdown",
   "metadata": {},
   "source": [
    "<hr>\n",
    "\n",
    "### Spotlight also allows us to quickly explore the similarity between each of the reforged versions over each of the parsers. This similarity score is an average of the signatures derived from text extraction, rendering, and trace messages. So a high similarity score means that the reforging process produced the same text, rendering, and messages for each parser."
   ]
  },
  {
   "cell_type": "code",
   "execution_count": 13,
   "metadata": {
    "ExecuteTime": {
     "end_time": "2022-04-21T19:29:53.800341Z",
     "start_time": "2022-04-21T19:29:53.574271Z"
    }
   },
   "outputs": [
    {
     "data": {
      "image/png": "[encoded data removed]",
      "text/plain": [
       "<Figure size 360x360 with 2 Axes>"
      ]
     },
     "execution_count": 13,
     "metadata": {},
     "output_type": "execute_result"
    }
   ],
   "source": [
    "spotlight_result.sim_heatmap(report='sim', compare_orig=False, height=5, width=5)"
   ]
  },
  {
   "cell_type": "code",
   "execution_count": null,
   "metadata": {},
   "outputs": [],
   "source": []
  }
 ],
 "metadata": {
  "kernelspec": {
   "display_name": "Python [conda env:sparclur_test]",
   "language": "python",
   "name": "conda-env-sparclur_test-py"
  },
  "language_info": {
   "codemirror_mode": {
    "name": "ipython",
    "version": 3
   },
   "file_extension": ".py",
   "mimetype": "text/x-python",
   "name": "python",
   "nbconvert_exporter": "python",
   "pygments_lexer": "ipython3",
   "version": "3.8.13"
  }
 },
 "nbformat": 4,
 "nbformat_minor": 2
}
