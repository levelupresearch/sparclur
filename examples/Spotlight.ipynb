{
 "cells": [
  {
   "cell_type": "code",
   "execution_count": 1,
   "metadata": {
    "ExecuteTime": {
     "end_time": "2022-02-02T02:30:53.796823Z",
     "start_time": "2022-02-02T02:30:50.418756Z"
    }
   },
   "outputs": [],
   "source": [
    "import os\n",
    "import sys\n",
    "sparclur_path = os.path.abspath('/Users/sdavis/PycharmProjects/sparclur/')\n",
    "if sparclur_path not in sys.path:\n",
    "    sys.path.append(sparclur_path)\n",
    "from sparclur import Spotlight\n",
    "from sparclur.parsers import *"
   ]
  },
  {
   "cell_type": "markdown",
   "metadata": {
    "ExecuteTime": {
     "end_time": "2022-02-02T02:00:57.448122Z",
     "start_time": "2022-02-02T02:00:57.446063Z"
    }
   },
   "source": [
    "### Load the Hello World pdf"
   ]
  },
  {
   "cell_type": "code",
   "execution_count": 2,
   "metadata": {
    "ExecuteTime": {
     "end_time": "2022-02-02T02:30:53.801483Z",
     "start_time": "2022-02-02T02:30:53.798780Z"
    }
   },
   "outputs": [],
   "source": [
    "hello_world = os.path.join(sparclur_path, 'resources', 'hello_world_hand_edit.pdf')"
   ]
  },
  {
   "cell_type": "markdown",
   "metadata": {},
   "source": [
    "### Set the parsers to run with Spotlight"
   ]
  },
  {
   "cell_type": "code",
   "execution_count": 3,
   "metadata": {
    "ExecuteTime": {
     "end_time": "2022-02-02T02:30:53.807002Z",
     "start_time": "2022-02-02T02:30:53.804037Z"
    }
   },
   "outputs": [],
   "source": [
    "parsers = ['Poppler', 'MuPDF', 'PDFCPU', 'Ghostscript', 'XPDF', 'PDFMiner', 'QPDF']"
   ]
  },
  {
   "cell_type": "markdown",
   "metadata": {},
   "source": [
    "### Instantiate Spotlight and generate the result"
   ]
  },
  {
   "cell_type": "code",
   "execution_count": 4,
   "metadata": {
    "ExecuteTime": {
     "end_time": "2022-02-02T02:31:01.589157Z",
     "start_time": "2022-02-02T02:30:53.810528Z"
    },
    "scrolled": true
   },
   "outputs": [
    {
     "name": "stderr",
     "output_type": "stream",
     "text": [
      " 14%|█▍        | 4/28 [00:01<00:25,  1.08s/it]mupdf: expected generation number (0 ? obj)\n",
      "mupdf: expected generation number (0 ? obj)\n",
      " 29%|██▊       | 8/28 [00:02<00:10,  1.98it/s]mupdf: expected generation number (0 ? obj)\n",
      "100%|██████████| 28/28 [00:06<00:00,  4.21it/s]\n",
      "100%|██████████| 7/7 [00:00<00:00, 85598.04it/s]\n",
      "100%|██████████| 42/42 [00:00<00:00, 33877.07it/s]\n",
      "100%|██████████| 7/7 [00:00<00:00, 39729.54it/s]\n"
     ]
    }
   ],
   "source": [
    "spotlight = Spotlight(num_workers=5, parsers=parsers)\n",
    "spotlight_result = spotlight.run(hello_world)"
   ]
  },
  {
   "cell_type": "markdown",
   "metadata": {},
   "source": [
    "<hr>\n",
    "\n",
    "### Display the report for the validity of the original file and all of the cleaned-up versions for each parser run through Spotlight"
   ]
  },
  {
   "cell_type": "code",
   "execution_count": 5,
   "metadata": {
    "ExecuteTime": {
     "end_time": "2022-02-02T02:31:01.607880Z",
     "start_time": "2022-02-02T02:31:01.591198Z"
    }
   },
   "outputs": [
    {
     "data": {
      "text/html": [
       "<div>\n",
       "<style scoped>\n",
       "    .dataframe tbody tr th:only-of-type {\n",
       "        vertical-align: middle;\n",
       "    }\n",
       "\n",
       "    .dataframe tbody tr th {\n",
       "        vertical-align: top;\n",
       "    }\n",
       "\n",
       "    .dataframe thead th {\n",
       "        text-align: right;\n",
       "    }\n",
       "</style>\n",
       "<table border=\"1\" class=\"dataframe\">\n",
       "  <thead>\n",
       "    <tr style=\"text-align: right;\">\n",
       "      <th></th>\n",
       "      <th>original</th>\n",
       "      <th>Ghostscript</th>\n",
       "      <th>MuPDF</th>\n",
       "      <th>Poppler</th>\n",
       "    </tr>\n",
       "  </thead>\n",
       "  <tbody>\n",
       "    <tr>\n",
       "      <th>PDFCPU</th>\n",
       "      <td>Valid</td>\n",
       "      <td>Valid</td>\n",
       "      <td>Valid</td>\n",
       "      <td>Valid</td>\n",
       "    </tr>\n",
       "    <tr>\n",
       "      <th>MuPDF</th>\n",
       "      <td>Rejected</td>\n",
       "      <td>Valid</td>\n",
       "      <td>Valid</td>\n",
       "      <td>Valid</td>\n",
       "    </tr>\n",
       "    <tr>\n",
       "      <th>PDFMiner</th>\n",
       "      <td>Valid</td>\n",
       "      <td>Valid</td>\n",
       "      <td>Valid</td>\n",
       "      <td>Valid</td>\n",
       "    </tr>\n",
       "    <tr>\n",
       "      <th>Ghostscript</th>\n",
       "      <td>Valid</td>\n",
       "      <td>Valid</td>\n",
       "      <td>Valid</td>\n",
       "      <td>Valid</td>\n",
       "    </tr>\n",
       "    <tr>\n",
       "      <th>QPDF</th>\n",
       "      <td>Valid with Warnings</td>\n",
       "      <td>Valid</td>\n",
       "      <td>Valid</td>\n",
       "      <td>Valid</td>\n",
       "    </tr>\n",
       "    <tr>\n",
       "      <th>XPDF</th>\n",
       "      <td>Rejected</td>\n",
       "      <td>Valid</td>\n",
       "      <td>Valid</td>\n",
       "      <td>Valid</td>\n",
       "    </tr>\n",
       "    <tr>\n",
       "      <th>Poppler</th>\n",
       "      <td>Rejected</td>\n",
       "      <td>Valid</td>\n",
       "      <td>Rejected</td>\n",
       "      <td>Valid</td>\n",
       "    </tr>\n",
       "    <tr>\n",
       "      <th>Overall</th>\n",
       "      <td>Rejected</td>\n",
       "      <td>Valid</td>\n",
       "      <td>Rejected</td>\n",
       "      <td>Valid</td>\n",
       "    </tr>\n",
       "  </tbody>\n",
       "</table>\n",
       "</div>"
      ],
      "text/plain": [
       "                        original Ghostscript     MuPDF Poppler\n",
       "PDFCPU                     Valid       Valid     Valid   Valid\n",
       "MuPDF                   Rejected       Valid     Valid   Valid\n",
       "PDFMiner                   Valid       Valid     Valid   Valid\n",
       "Ghostscript                Valid       Valid     Valid   Valid\n",
       "QPDF         Valid with Warnings       Valid     Valid   Valid\n",
       "XPDF                    Rejected       Valid     Valid   Valid\n",
       "Poppler                 Rejected       Valid  Rejected   Valid\n",
       "Overall                 Rejected       Valid  Rejected   Valid"
      ]
     },
     "execution_count": 5,
     "metadata": {},
     "output_type": "execute_result"
    }
   ],
   "source": [
    "spotlight_result.validity_report()"
   ]
  },
  {
   "cell_type": "markdown",
   "metadata": {},
   "source": [
    "<hr>\n",
    "\n",
    "### Since Poppler rejects the cleaned-up version generated by MuPDF, the file's recovery is ambiguous. This can be seen in the call below."
   ]
  },
  {
   "cell_type": "code",
   "execution_count": 6,
   "metadata": {
    "ExecuteTime": {
     "end_time": "2022-02-02T02:31:01.612323Z",
     "start_time": "2022-02-02T02:31:01.609687Z"
    }
   },
   "outputs": [
    {
     "name": "stdout",
     "output_type": "stream",
     "text": [
      "Recovery ambigous:\n",
      "\tMuPDF: Rejected\n"
     ]
    }
   ],
   "source": [
    "print(spotlight_result.recoverable())"
   ]
  },
  {
   "cell_type": "markdown",
   "metadata": {},
   "source": [
    "<hr>\n",
    "\n",
    "### Let's see why Poppler rejected the file in the first place. All tools came back valid except font extraction."
   ]
  },
  {
   "cell_type": "code",
   "execution_count": 7,
   "metadata": {
    "ExecuteTime": {
     "end_time": "2022-02-02T02:31:01.802398Z",
     "start_time": "2022-02-02T02:31:01.614028Z"
    }
   },
   "outputs": [
    {
     "data": {
      "text/plain": [
       "{'Tracer': {'valid': True, 'status': 'Valid'},\n",
       " 'Text Extractor': {'valid': True, 'status': 'Valid'},\n",
       " 'Renderer': {'valid': True, 'status': 'Valid'},\n",
       " 'Font Extractor': {'valid': False,\n",
       "  'status': 'Rejected',\n",
       "  'info': 'Errors returned'},\n",
       " 'Image Data': {'valid': True, 'status': 'Valid'},\n",
       " 'overall': {'valid': False, 'status': 'Rejected'}}"
      ]
     },
     "execution_count": 7,
     "metadata": {},
     "output_type": "execute_result"
    }
   ],
   "source": [
    "poppler = Poppler(hello_world)\n",
    "poppler.validity"
   ]
  },
  {
   "cell_type": "markdown",
   "metadata": {},
   "source": [
    "<hr>\n",
    "\n",
    "### Here's the extracted font:"
   ]
  },
  {
   "cell_type": "code",
   "execution_count": 8,
   "metadata": {
    "ExecuteTime": {
     "end_time": "2022-02-02T02:31:01.810224Z",
     "start_time": "2022-02-02T02:31:01.806221Z"
    }
   },
   "outputs": [
    {
     "data": {
      "text/plain": [
       "[{'name': 'Times-Roman',\n",
       "  'type': 'Type 1',\n",
       "  'encoding': 'Standard',\n",
       "  'emb': False,\n",
       "  'sub': False,\n",
       "  'uni': False,\n",
       "  'object ID': '[none] R'}]"
      ]
     },
     "execution_count": 8,
     "metadata": {},
     "output_type": "execute_result"
    }
   ],
   "source": [
    "poppler.fonts"
   ]
  },
  {
   "cell_type": "markdown",
   "metadata": {},
   "source": [
    "<hr>\n",
    "\n",
    "### Let's clean up the file using Poppler and see what happens to the font:"
   ]
  },
  {
   "cell_type": "code",
   "execution_count": 9,
   "metadata": {
    "ExecuteTime": {
     "end_time": "2022-02-02T02:31:02.033128Z",
     "start_time": "2022-02-02T02:31:01.812278Z"
    }
   },
   "outputs": [
    {
     "data": {
      "text/plain": [
       "{'Tracer': {'valid': True, 'status': 'Valid'},\n",
       " 'Text Extractor': {'valid': True, 'status': 'Valid'},\n",
       " 'Renderer': {'valid': True, 'status': 'Valid'},\n",
       " 'Font Extractor': {'valid': True, 'status': 'Valid'},\n",
       " 'Image Data': {'valid': True, 'status': 'Valid'},\n",
       " 'overall': {'valid': True, 'status': 'Valid'}}"
      ]
     },
     "execution_count": 9,
     "metadata": {},
     "output_type": "execute_result"
    }
   ],
   "source": [
    "poppler_cleanup = poppler.reforge\n",
    "cleaned_poppler = Poppler(poppler_cleanup)\n",
    "cleaned_poppler.validity"
   ]
  },
  {
   "cell_type": "code",
   "execution_count": 10,
   "metadata": {
    "ExecuteTime": {
     "end_time": "2022-02-02T02:31:02.039030Z",
     "start_time": "2022-02-02T02:31:02.035392Z"
    }
   },
   "outputs": [
    {
     "data": {
      "text/plain": [
       "[{'name': 'QELDOZ+Times-Roman',\n",
       "  'type': 'TrueType',\n",
       "  'encoding': 'WinAnsi',\n",
       "  'emb': True,\n",
       "  'sub': True,\n",
       "  'uni': True,\n",
       "  'object ID': '6  0 R'}]"
      ]
     },
     "execution_count": 10,
     "metadata": {},
     "output_type": "execute_result"
    }
   ],
   "source": [
    "cleaned_poppler.fonts"
   ]
  },
  {
   "cell_type": "markdown",
   "metadata": {},
   "source": [
    "<hr>\n",
    "\n",
    "### Poppler embedded a system font into the cleaned up version. Now let's see what the MuPDF reforged document does for the font extraction:"
   ]
  },
  {
   "cell_type": "code",
   "execution_count": 11,
   "metadata": {
    "ExecuteTime": {
     "end_time": "2022-02-02T02:31:02.264537Z",
     "start_time": "2022-02-02T02:31:02.040778Z"
    }
   },
   "outputs": [
    {
     "data": {
      "text/plain": [
       "{'Tracer': {'valid': True, 'status': 'Valid'},\n",
       " 'Text Extractor': {'valid': True, 'status': 'Valid'},\n",
       " 'Renderer': {'valid': True, 'status': 'Valid'},\n",
       " 'Font Extractor': {'valid': False,\n",
       "  'status': 'Rejected',\n",
       "  'info': 'Errors returned'},\n",
       " 'Image Data': {'valid': True, 'status': 'Valid'},\n",
       " 'overall': {'valid': False, 'status': 'Rejected'}}"
      ]
     },
     "execution_count": 11,
     "metadata": {},
     "output_type": "execute_result"
    }
   ],
   "source": [
    "mupdf_cleanup = MuPDF(hello_world).reforge\n",
    "mu_poppler = Poppler(mupdf_cleanup)\n",
    "mu_poppler.validity"
   ]
  },
  {
   "cell_type": "markdown",
   "metadata": {},
   "source": [
    "<hr>\n",
    "\n",
    "### We can see that the MuPDF cleaning process left the font information untouched, which is why Poppler marked this version invalid."
   ]
  },
  {
   "cell_type": "code",
   "execution_count": 12,
   "metadata": {
    "ExecuteTime": {
     "end_time": "2022-02-02T02:31:02.270636Z",
     "start_time": "2022-02-02T02:31:02.266678Z"
    }
   },
   "outputs": [
    {
     "data": {
      "text/plain": [
       "[{'name': 'Times-Roman',\n",
       "  'type': 'Type 1',\n",
       "  'encoding': 'Standard',\n",
       "  'emb': False,\n",
       "  'sub': False,\n",
       "  'uni': False,\n",
       "  'object ID': '[none] R'}]"
      ]
     },
     "execution_count": 12,
     "metadata": {},
     "output_type": "execute_result"
    }
   ],
   "source": [
    "mu_poppler.fonts"
   ]
  },
  {
   "cell_type": "markdown",
   "metadata": {},
   "source": [
    "<hr>\n",
    "\n",
    "### Spotlight also allows us to quickly explore the similarity between each of the reforged versions over each of the parsers. This similarity score is an average of the signatures derived from text extraction, rendering, and trace messages. So a high similarity score means that the reforging process produced the same text, rendering, and messages for each parser."
   ]
  },
  {
   "cell_type": "code",
   "execution_count": 13,
   "metadata": {
    "ExecuteTime": {
     "end_time": "2022-02-02T02:31:02.479971Z",
     "start_time": "2022-02-02T02:31:02.272072Z"
    }
   },
   "outputs": [
    {
     "data": {
      "image/png": "[encoded data removed]",
      "text/plain": [
       "<Figure size 720x720 with 2 Axes>"
      ]
     },
     "execution_count": 13,
     "metadata": {},
     "output_type": "execute_result"
    }
   ],
   "source": [
    "spotlight_result.sim_heatmap(report='sim', compare_orig=False)"
   ]
  },
  {
   "cell_type": "code",
   "execution_count": null,
   "metadata": {},
   "outputs": [],
   "source": []
  }
 ],
 "metadata": {
  "kernelspec": {
   "display_name": "Python [conda env:sparclur]",
   "language": "python",
   "name": "conda-env-sparclur-py"
  },
  "language_info": {
   "codemirror_mode": {
    "name": "ipython",
    "version": 3
   },
   "file_extension": ".py",
   "mimetype": "text/x-python",
   "name": "python",
   "nbconvert_exporter": "python",
   "pygments_lexer": "ipython3",
   "version": "3.8.5"
  }
 },
 "nbformat": 4,
 "nbformat_minor": 2
}
