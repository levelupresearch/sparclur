{
 "cells": [
  {
   "cell_type": "code",
   "execution_count": 2,
   "metadata": {
    "ExecuteTime": {
     "end_time": "2022-02-02T02:41:12.938871Z",
     "start_time": "2022-02-02T02:41:10.189167Z"
    }
   },
   "outputs": [],
   "source": [
    "import os\n",
    "import sys\n",
    "sparclur_path = os.path.abspath('/Users/sdavis/PycharmProjects/sparclur/')\n",
    "if sparclur_path not in sys.path:\n",
    "    sys.path.append(sparclur_path)\n",
    "from sparclur.parsers import MuPDF, Poppler, PDFMiner, XPDF, Ghostscript"
   ]
  },
  {
   "cell_type": "markdown",
   "metadata": {},
   "source": [
    "### Set the document path..."
   ]
  },
  {
   "cell_type": "code",
   "execution_count": 3,
   "metadata": {
    "ExecuteTime": {
     "end_time": "2022-02-02T02:41:12.943769Z",
     "start_time": "2022-02-02T02:41:12.941014Z"
    }
   },
   "outputs": [],
   "source": [
    "hello_world = os.path.join(sparclur_path, 'resources', 'hello_world_hand_edit.pdf')"
   ]
  },
  {
   "cell_type": "markdown",
   "metadata": {},
   "source": [
    "### ...and load it into MuPDF"
   ]
  },
  {
   "cell_type": "code",
   "execution_count": 4,
   "metadata": {
    "ExecuteTime": {
     "end_time": "2022-02-02T02:41:28.648345Z",
     "start_time": "2022-02-02T02:41:28.638078Z"
    }
   },
   "outputs": [
    {
     "data": {
      "text/plain": [
       "num_pages:\t(Property) Returns number of pages in the document\n",
       "can_reforge:\t(Property) Boolean for whether or not reforge capability is present\n",
       "reforge:\t(Property) Returns the raw binary of the reconstructed PDF\n",
       "reforge_result:\t(Property) Message conveying the success or failure of the reforging\n",
       "save_reforge:\tSave the reforge to the specified file location\n",
       "can_extract_text:\t(Property) Boolean for whether or not text extraction is present\n",
       "get_text:\tReturn a dictionary of pages and their extracted texts\n",
       "clear_text:\tClear the cache of text extraction\n",
       "get_tokens:\tReturn a dictionary of the parsed text tokens\n",
       "compare_text:\tReturn the Jaccard similarity of the shingled tokens between two text extractors\n",
       "can_render:\tBoolean for whether or not rendering capability is present\n",
       "validate_renderer:\t(Property) Determines the PDF validity for rendering process\n",
       "logs:\t(Property) Any logs collected during the rendering process\n",
       "caching:\t(Property) Whether renders are cached or not\n",
       "clear_renders:\tClears any renders that have been cached inside this object\n",
       "dpi:\t(Property) The DPI setting for this object\n",
       "get_renders:\tRetrieve the render for the specified page or all pages if not specified\n",
       "compare:\tCompare the renders for this object with the renders of another Renderer\n",
       "validate_text:\t(Property) Determines the PDF validity for the text extraction process\n",
       "compare_ocr:\tCompares the OCR of the document with the text extraction\n",
       "can_trace:\t(Property) Boolean for whether or not trace collection capability is present\n",
       "validate_tracer:\t(Property) Determines the PDF validity for the tracing process\n",
       "messages:\t(Property) The list of raw messages from the parser\n",
       "cleaned:\t(Property) A dictionary of normalized messages with their counts"
      ]
     },
     "execution_count": 4,
     "metadata": {},
     "output_type": "execute_result"
    }
   ],
   "source": [
    "mupdf = MuPDF(hello_world)\n",
    "mupdf"
   ]
  },
  {
   "cell_type": "markdown",
   "metadata": {},
   "source": [
    "<hr>\n",
    "\n",
    "### Let's try to extract the text using MuPDF"
   ]
  },
  {
   "cell_type": "code",
   "execution_count": 5,
   "metadata": {
    "ExecuteTime": {
     "end_time": "2022-02-02T02:41:29.356949Z",
     "start_time": "2022-02-02T02:41:29.337974Z"
    }
   },
   "outputs": [
    {
     "name": "stderr",
     "output_type": "stream",
     "text": [
      "mupdf: expected generation number (0 ? obj)\n"
     ]
    },
    {
     "data": {
      "text/plain": [
       "{0: ''}"
      ]
     },
     "execution_count": 5,
     "metadata": {},
     "output_type": "execute_result"
    }
   ],
   "source": [
    "mupdf.get_text()"
   ]
  },
  {
   "cell_type": "code",
   "execution_count": 6,
   "metadata": {
    "ExecuteTime": {
     "end_time": "2022-02-02T01:28:56.605285Z",
     "start_time": "2022-02-02T01:28:56.601448Z"
    }
   },
   "outputs": [
    {
     "data": {
      "text/plain": [
       "{'valid': True,\n",
       " 'status': 'Valid with Warnings',\n",
       " 'info': 'expected generation number (0 ? obj)\\ntrying to repair broken xref\\nrepairing PDF document'}"
      ]
     },
     "execution_count": 6,
     "metadata": {},
     "output_type": "execute_result"
    }
   ],
   "source": [
    "mupdf.validate_text"
   ]
  },
  {
   "cell_type": "markdown",
   "metadata": {},
   "source": [
    "<hr>\n",
    "\n",
    "### No luck. Let's try to extract the text using OCR."
   ]
  },
  {
   "cell_type": "code",
   "execution_count": 15,
   "metadata": {
    "ExecuteTime": {
     "end_time": "2022-02-02T01:31:57.014525Z",
     "start_time": "2022-02-02T01:31:57.008392Z"
    }
   },
   "outputs": [],
   "source": [
    "mu_ocr = MuPDF(hello_world, ocr=True, dpi=200)"
   ]
  },
  {
   "cell_type": "code",
   "execution_count": 16,
   "metadata": {
    "ExecuteTime": {
     "end_time": "2022-02-02T01:31:57.978635Z",
     "start_time": "2022-02-02T01:31:57.735068Z"
    }
   },
   "outputs": [
    {
     "name": "stderr",
     "output_type": "stream",
     "text": [
      "mupdf: expected generation number (0 ? obj)\n"
     ]
    },
    {
     "data": {
      "text/plain": [
       "'Hello World ...\\n'"
      ]
     },
     "execution_count": 16,
     "metadata": {},
     "output_type": "execute_result"
    }
   ],
   "source": [
    "mu_ocr.get_text(0)"
   ]
  },
  {
   "cell_type": "markdown",
   "metadata": {},
   "source": [
    "<hr>\n",
    "\n",
    "### That did the trick. We can also directly compare the difference between the text extraction call and the OCR for parsers that have both rendering and text extraction capabilities. This score is 0, since text extraction failed. "
   ]
  },
  {
   "cell_type": "code",
   "execution_count": 17,
   "metadata": {
    "ExecuteTime": {
     "end_time": "2022-02-02T01:32:00.491323Z",
     "start_time": "2022-02-02T01:31:59.539460Z"
    }
   },
   "outputs": [
    {
     "name": "stderr",
     "output_type": "stream",
     "text": [
      "mupdf: expected generation number (0 ? obj)\n",
      "mupdf: expected generation number (0 ? obj)\n"
     ]
    },
    {
     "data": {
      "text/plain": [
       "0.0"
      ]
     },
     "execution_count": 17,
     "metadata": {},
     "output_type": "execute_result"
    }
   ],
   "source": [
    "mu_ocr.compare_ocr(shingle_size=1)"
   ]
  },
  {
   "cell_type": "markdown",
   "metadata": {},
   "source": [
    "<hr>\n",
    "\n",
    "### Let's see if Poppler can extract the text."
   ]
  },
  {
   "cell_type": "code",
   "execution_count": 7,
   "metadata": {
    "ExecuteTime": {
     "end_time": "2022-02-02T01:29:01.990629Z",
     "start_time": "2022-02-02T01:29:01.984860Z"
    }
   },
   "outputs": [],
   "source": [
    "poppler = Poppler(hello_world)"
   ]
  },
  {
   "cell_type": "code",
   "execution_count": 8,
   "metadata": {
    "ExecuteTime": {
     "end_time": "2022-02-02T01:29:02.547213Z",
     "start_time": "2022-02-02T01:29:02.543343Z"
    }
   },
   "outputs": [
    {
     "data": {
      "text/plain": [
       "num_pages:\t(Property) Returns number of pages in the document\n",
       "can_reforge:\t(Property) Boolean for whether or not reforge capability is present\n",
       "reforge:\t(Property) Returns the raw binary of the reconstructed PDF\n",
       "reforge_result:\t(Property) Message conveying the success or failure of the reforging\n",
       "save_reforge:\tSave the reforge to the specified file location\n",
       "can_extract_image_data:\t(Property) Boolean for whether or not image data extraction \n",
       "                                                capability is present\n",
       "contains_jpeg:\t(Property) Returns True if jpeg data was extracted from the PDF\n",
       "contains_images:\t(Property) Returns True if image data was extracted from the PDF\n",
       "images:\t(Property) Returns the image data that was extracted from the PDF\n",
       "validate_image_data:\t(Property) Determines the PDF validity for image data extraction\n",
       "can_extract_font:\t(Property) Boolean for whether or not font extraction is present\n",
       "non_embedded_fonts:\t(Property) Returns true if the document is missing non-system fonts\n",
       "fonts:\t(Property) Returns the font information for the PDF\n",
       "validate_fonts:\t(Property) Determines the PDF validity for font info extraction\n",
       "can_extract_text:\t(Property) Boolean for whether or not text extraction is present\n",
       "get_text:\tReturn a dictionary of pages and their extracted texts\n",
       "clear_text:\tClear the cache of text extraction\n",
       "get_tokens:\tReturn a dictionary of the parsed text tokens\n",
       "compare_text:\tReturn the Jaccard similarity of the shingled tokens between two text extractors\n",
       "can_render:\tBoolean for whether or not rendering capability is present\n",
       "validate_renderer:\t(Property) Determines the PDF validity for rendering process\n",
       "logs:\t(Property) Any logs collected during the rendering process\n",
       "caching:\t(Property) Whether renders are cached or not\n",
       "clear_renders:\tClears any renders that have been cached inside this object\n",
       "dpi:\t(Property) The DPI setting for this object\n",
       "get_renders:\tRetrieve the render for the specified page or all pages if not specified\n",
       "compare:\tCompare the renders for this object with the renders of another Renderer\n",
       "validate_text:\t(Property) Determines the PDF validity for the text extraction process\n",
       "compare_ocr:\tCompares the OCR of the document with the text extraction\n",
       "can_trace:\t(Property) Boolean for whether or not trace collection capability is present\n",
       "validate_tracer:\t(Property) Determines the PDF validity for the tracing process\n",
       "messages:\t(Property) The list of raw messages from the parser\n",
       "cleaned:\t(Property) A dictionary of normalized messages with their counts"
      ]
     },
     "execution_count": 8,
     "metadata": {},
     "output_type": "execute_result"
    }
   ],
   "source": [
    "poppler"
   ]
  },
  {
   "cell_type": "code",
   "execution_count": 9,
   "metadata": {
    "ExecuteTime": {
     "end_time": "2022-02-02T01:29:08.815570Z",
     "start_time": "2022-02-02T01:29:08.749958Z"
    }
   },
   "outputs": [
    {
     "data": {
      "text/plain": [
       "'Hello World ...\\n\\x0c'"
      ]
     },
     "execution_count": 9,
     "metadata": {},
     "output_type": "execute_result"
    }
   ],
   "source": [
    "poppler.get_text(0)"
   ]
  },
  {
   "cell_type": "code",
   "execution_count": 10,
   "metadata": {
    "ExecuteTime": {
     "end_time": "2022-02-02T01:29:25.507198Z",
     "start_time": "2022-02-02T01:29:25.502608Z"
    }
   },
   "outputs": [
    {
     "data": {
      "text/plain": [
       "{'valid': True, 'status': 'Valid'}"
      ]
     },
     "execution_count": 10,
     "metadata": {},
     "output_type": "execute_result"
    }
   ],
   "source": [
    "poppler.validate_text"
   ]
  },
  {
   "cell_type": "markdown",
   "metadata": {},
   "source": [
    "<hr>\n",
    "\n",
    "### Success. Now let's compare this text with the OCR'ed text from MuPDF."
   ]
  },
  {
   "cell_type": "code",
   "execution_count": 18,
   "metadata": {
    "ExecuteTime": {
     "end_time": "2022-02-02T01:32:04.895283Z",
     "start_time": "2022-02-02T01:32:03.933495Z"
    }
   },
   "outputs": [
    {
     "name": "stderr",
     "output_type": "stream",
     "text": [
      "mupdf: expected generation number (0 ? obj)\n"
     ]
    },
    {
     "data": {
      "text/plain": [
       "1.0"
      ]
     },
     "execution_count": 18,
     "metadata": {},
     "output_type": "execute_result"
    }
   ],
   "source": [
    "poppler.compare_text(mu_ocr, shingle_size=1)"
   ]
  },
  {
   "cell_type": "code",
   "execution_count": null,
   "metadata": {},
   "outputs": [],
   "source": []
  }
 ],
 "metadata": {
  "kernelspec": {
   "display_name": "Python [conda env:sparclur]",
   "language": "python",
   "name": "conda-env-sparclur-py"
  },
  "language_info": {
   "codemirror_mode": {
    "name": "ipython",
    "version": 3
   },
   "file_extension": ".py",
   "mimetype": "text/x-python",
   "name": "python",
   "nbconvert_exporter": "python",
   "pygments_lexer": "ipython3",
   "version": "3.8.5"
  }
 },
 "nbformat": 4,
 "nbformat_minor": 2
}
